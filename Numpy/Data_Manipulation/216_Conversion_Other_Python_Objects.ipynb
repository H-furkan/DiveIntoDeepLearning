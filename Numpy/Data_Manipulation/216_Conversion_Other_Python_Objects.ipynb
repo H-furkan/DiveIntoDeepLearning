{
 "cells": [
  {
   "cell_type": "markdown",
   "id": "2f282274",
   "metadata": {},
   "source": [
    "Converting to a MubPy tensor, or vice versa, is easy. The torch tensor and NumPy array will share their underlying memory, and changing one through an in-place opreation will also change the other."
   ]
  },
  {
   "cell_type": "code",
   "execution_count": 1,
   "id": "0dd2e176",
   "metadata": {},
   "outputs": [
    {
     "data": {
      "text/plain": [
       "(numpy.ndarray, torch.Tensor)"
      ]
     },
     "execution_count": 1,
     "metadata": {},
     "output_type": "execute_result"
    }
   ],
   "source": [
    "import torch\n",
    "X = torch.arange(12).reshape((3, 4))\n",
    "A = X.numpy()\n",
    "B = torch.from_numpy(A)\n",
    "type(A), type(B)"
   ]
  },
  {
   "cell_type": "code",
   "execution_count": 2,
   "id": "6a35577d",
   "metadata": {},
   "outputs": [
    {
     "name": "stdout",
     "output_type": "stream",
     "text": [
      "tensor([1.5000])\n",
      "1.5\n",
      "1.5\n",
      "1\n"
     ]
    }
   ],
   "source": [
    "a = torch.tensor([1.5])\n",
    "print(a)\n",
    "print(a.item())\n",
    "print(float(a))\n",
    "print(int(a))"
   ]
  },
  {
   "cell_type": "markdown",
   "id": "a262b3d3",
   "metadata": {},
   "source": []
  }
 ],
 "metadata": {
  "kernelspec": {
   "display_name": "Python 3",
   "language": "python",
   "name": "python3"
  },
  "language_info": {
   "codemirror_mode": {
    "name": "ipython",
    "version": 3
   },
   "file_extension": ".py",
   "mimetype": "text/x-python",
   "name": "python",
   "nbconvert_exporter": "python",
   "pygments_lexer": "ipython3",
   "version": "3.10.12"
  }
 },
 "nbformat": 4,
 "nbformat_minor": 5
}
