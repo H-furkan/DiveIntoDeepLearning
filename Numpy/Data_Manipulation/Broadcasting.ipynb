{
 "cells": [
  {
   "cell_type": "markdown",
   "id": "a7f96b6d",
   "metadata": {},
   "source": [
    "Under certeain conditions, even when shapes differ, we can still perform elementwise binary operations by invoking the \"Broadcasting Mechanism\".\n",
    "\n",
    "1- Expand one or both arrays by copying elements along axes with length 1 so that after this transformation, the two tensors have the same shape.\n",
    "\n",
    "2- Perform an elementwise operation on the resulting arrays."
   ]
  },
  {
   "cell_type": "code",
   "execution_count": 3,
   "id": "34eb01b8",
   "metadata": {},
   "outputs": [],
   "source": [
    "import torch \n",
    "a = torch.arange(3).reshape((3,1))\n",
    "b = torch.arange(2).reshape((1,2))\n"
   ]
  },
  {
   "cell_type": "code",
   "execution_count": 4,
   "id": "70dc907f",
   "metadata": {},
   "outputs": [
    {
     "name": "stdout",
     "output_type": "stream",
     "text": [
      "tensor([[0],\n",
      "        [1],\n",
      "        [2]])\n",
      "tensor([[0, 1]])\n"
     ]
    }
   ],
   "source": [
    "print(a)\n",
    "print(b)"
   ]
  },
  {
   "cell_type": "code",
   "execution_count": 5,
   "id": "f843e86b",
   "metadata": {},
   "outputs": [
    {
     "name": "stdout",
     "output_type": "stream",
     "text": [
      "tensor([[0, 1],\n",
      "        [1, 2],\n",
      "        [2, 3]])\n"
     ]
    }
   ],
   "source": [
    "print(a + b)  # Broadcasting addition"
   ]
  }
 ],
 "metadata": {
  "kernelspec": {
   "display_name": "Python 3",
   "language": "python",
   "name": "python3"
  },
  "language_info": {
   "codemirror_mode": {
    "name": "ipython",
    "version": 3
   },
   "file_extension": ".py",
   "mimetype": "text/x-python",
   "name": "python",
   "nbconvert_exporter": "python",
   "pygments_lexer": "ipython3",
   "version": "3.10.12"
  }
 },
 "nbformat": 4,
 "nbformat_minor": 5
}
