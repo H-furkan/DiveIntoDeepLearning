{
 "cells": [
  {
   "cell_type": "markdown",
   "id": "71577f3a",
   "metadata": {},
   "source": [
    "Running operations can cause new memory to be allocated to host results.\n",
    "\n",
    "before = id(Y)\n",
    "Y = X + Y\n",
    "id(Y) == before\n",
    "\n",
    "---\n",
    "\n",
    "False"
   ]
  },
  {
   "cell_type": "markdown",
   "id": "f1956041",
   "metadata": {},
   "source": [
    "To perfom in-place operations, we can assign the result of an operation to a previously allocated array Y by using slice notation: Y[:] = <expression>"
   ]
  },
  {
   "cell_type": "code",
   "execution_count": 2,
   "id": "65358b03",
   "metadata": {},
   "outputs": [
    {
     "name": "stdout",
     "output_type": "stream",
     "text": [
      "id(Z): 127905472425760\n",
      "id(Z): 127905472425760\n",
      "Same memory: True\n"
     ]
    }
   ],
   "source": [
    "import torch\n",
    "X = torch.arange(12).reshape((3, 4))\n",
    "Y = torch.arange(12).reshape((3, 4))\n",
    "Z = torch.zeros_like(Y)\n",
    "before = id(Z)\n",
    "print('id(Z):', id(Z))\n",
    "Z[:] = X + Y\n",
    "after = id(Z)\n",
    "print('id(Z):', id(Z))\n",
    "print('Same memory:', before == after)"
   ]
  }
 ],
 "metadata": {
  "kernelspec": {
   "display_name": "Python 3",
   "language": "python",
   "name": "python3"
  },
  "language_info": {
   "codemirror_mode": {
    "name": "ipython",
    "version": 3
   },
   "file_extension": ".py",
   "mimetype": "text/x-python",
   "name": "python",
   "nbconvert_exporter": "python",
   "pygments_lexer": "ipython3",
   "version": "3.10.12"
  }
 },
 "nbformat": 4,
 "nbformat_minor": 5
}
